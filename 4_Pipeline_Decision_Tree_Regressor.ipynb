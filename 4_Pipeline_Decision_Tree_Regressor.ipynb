{
 "cells": [
  {
   "cell_type": "code",
   "execution_count": 262,
   "metadata": {},
   "outputs": [],
   "source": [
    "# Import packages\n",
    "import numpy as np\n",
    "import pandas as pd\n",
    "import matplotlib.pyplot as plt\n",
    "import seaborn as sns\n",
    "from timeit import default_timer as timer\n",
    "\n",
    "RSEED = 42"
   ]
  },
  {
   "cell_type": "code",
   "execution_count": 263,
   "metadata": {},
   "outputs": [],
   "source": [
    "from sklearn.pipeline import Pipeline # focus on this one\n",
    "from sklearn.compose import ColumnTransformer\n",
    "from sklearn.preprocessing import OneHotEncoder, StandardScaler\n",
    "from sklearn.impute import SimpleImputer\n",
    "from sklearn.model_selection import train_test_split\n",
    "from sklearn.model_selection import GridSearchCV, RandomizedSearchCV\n",
    "from sklearn.model_selection import cross_val_predict, cross_val_score, cross_validate\n",
    "from sklearn.metrics import roc_curve, confusion_matrix, accuracy_score, recall_score, precision_score, mean_squared_error, r2_score\n",
    "from sklearn.tree import DecisionTreeClassifier, DecisionTreeRegressor\n",
    "from sklearn.metrics import classification_report "
   ]
  },
  {
   "cell_type": "code",
   "execution_count": 264,
   "metadata": {},
   "outputs": [
    {
     "data": {
      "text/html": [
       "<div>\n",
       "<style scoped>\n",
       "    .dataframe tbody tr th:only-of-type {\n",
       "        vertical-align: middle;\n",
       "    }\n",
       "\n",
       "    .dataframe tbody tr th {\n",
       "        vertical-align: top;\n",
       "    }\n",
       "\n",
       "    .dataframe thead th {\n",
       "        text-align: right;\n",
       "    }\n",
       "</style>\n",
       "<table border=\"1\" class=\"dataframe\">\n",
       "  <thead>\n",
       "    <tr style=\"text-align: right;\">\n",
       "      <th></th>\n",
       "      <th>Date</th>\n",
       "      <th>Place_ID</th>\n",
       "      <th>target</th>\n",
       "      <th>target_min</th>\n",
       "      <th>target_max</th>\n",
       "      <th>target_variance</th>\n",
       "      <th>target_count</th>\n",
       "      <th>precipitable_water_entire_atmosphere</th>\n",
       "      <th>relative_humidity_2m_above_ground</th>\n",
       "      <th>specific_humidity_2m_above_ground</th>\n",
       "      <th>...</th>\n",
       "      <th>L3_NO2_cloud_fraction</th>\n",
       "      <th>L3_CO_CO_column_number_density</th>\n",
       "      <th>L3_CO_cloud_height</th>\n",
       "      <th>L3_HCHO_tropospheric_HCHO_column_number_density</th>\n",
       "      <th>L3_HCHO_cloud_fraction</th>\n",
       "      <th>L3_O3_O3_column_number_density</th>\n",
       "      <th>L3_O3_cloud_fraction</th>\n",
       "      <th>L3_SO2_SO2_column_number_density</th>\n",
       "      <th>L3_SO2_absorbing_aerosol_index</th>\n",
       "      <th>L3_SO2_cloud_fraction</th>\n",
       "    </tr>\n",
       "  </thead>\n",
       "  <tbody>\n",
       "    <tr>\n",
       "      <th>0</th>\n",
       "      <td>2020-01-02</td>\n",
       "      <td>010Q650</td>\n",
       "      <td>38.0</td>\n",
       "      <td>23.0</td>\n",
       "      <td>53.0</td>\n",
       "      <td>769.50</td>\n",
       "      <td>92</td>\n",
       "      <td>11.000000</td>\n",
       "      <td>60.200001</td>\n",
       "      <td>0.00804</td>\n",
       "      <td>...</td>\n",
       "      <td>0.006507</td>\n",
       "      <td>0.021080</td>\n",
       "      <td>267.017184</td>\n",
       "      <td>0.000064</td>\n",
       "      <td>0.000000</td>\n",
       "      <td>0.119095</td>\n",
       "      <td>0.000000</td>\n",
       "      <td>-0.000127</td>\n",
       "      <td>-1.861476</td>\n",
       "      <td>0.000000</td>\n",
       "    </tr>\n",
       "    <tr>\n",
       "      <th>1</th>\n",
       "      <td>2020-01-03</td>\n",
       "      <td>010Q650</td>\n",
       "      <td>39.0</td>\n",
       "      <td>25.0</td>\n",
       "      <td>63.0</td>\n",
       "      <td>1319.85</td>\n",
       "      <td>91</td>\n",
       "      <td>14.600000</td>\n",
       "      <td>48.799999</td>\n",
       "      <td>0.00839</td>\n",
       "      <td>...</td>\n",
       "      <td>0.018360</td>\n",
       "      <td>0.022017</td>\n",
       "      <td>61.216687</td>\n",
       "      <td>0.000171</td>\n",
       "      <td>0.059433</td>\n",
       "      <td>0.115179</td>\n",
       "      <td>0.059433</td>\n",
       "      <td>0.000150</td>\n",
       "      <td>-1.452612</td>\n",
       "      <td>0.059433</td>\n",
       "    </tr>\n",
       "    <tr>\n",
       "      <th>2</th>\n",
       "      <td>2020-01-04</td>\n",
       "      <td>010Q650</td>\n",
       "      <td>24.0</td>\n",
       "      <td>8.0</td>\n",
       "      <td>56.0</td>\n",
       "      <td>1181.96</td>\n",
       "      <td>96</td>\n",
       "      <td>16.400000</td>\n",
       "      <td>33.400002</td>\n",
       "      <td>0.00750</td>\n",
       "      <td>...</td>\n",
       "      <td>0.015904</td>\n",
       "      <td>0.020677</td>\n",
       "      <td>134.700335</td>\n",
       "      <td>0.000124</td>\n",
       "      <td>0.082063</td>\n",
       "      <td>0.115876</td>\n",
       "      <td>0.082063</td>\n",
       "      <td>0.000150</td>\n",
       "      <td>-1.572950</td>\n",
       "      <td>0.082063</td>\n",
       "    </tr>\n",
       "    <tr>\n",
       "      <th>3</th>\n",
       "      <td>2020-01-05</td>\n",
       "      <td>010Q650</td>\n",
       "      <td>49.0</td>\n",
       "      <td>10.0</td>\n",
       "      <td>55.0</td>\n",
       "      <td>1113.67</td>\n",
       "      <td>96</td>\n",
       "      <td>6.911948</td>\n",
       "      <td>21.300001</td>\n",
       "      <td>0.00391</td>\n",
       "      <td>...</td>\n",
       "      <td>0.055765</td>\n",
       "      <td>0.021207</td>\n",
       "      <td>474.821444</td>\n",
       "      <td>0.000081</td>\n",
       "      <td>0.121261</td>\n",
       "      <td>0.141557</td>\n",
       "      <td>0.121261</td>\n",
       "      <td>0.000227</td>\n",
       "      <td>-1.239317</td>\n",
       "      <td>0.121261</td>\n",
       "    </tr>\n",
       "    <tr>\n",
       "      <th>4</th>\n",
       "      <td>2020-01-06</td>\n",
       "      <td>010Q650</td>\n",
       "      <td>21.0</td>\n",
       "      <td>9.0</td>\n",
       "      <td>52.0</td>\n",
       "      <td>1164.82</td>\n",
       "      <td>95</td>\n",
       "      <td>13.900001</td>\n",
       "      <td>44.700001</td>\n",
       "      <td>0.00535</td>\n",
       "      <td>...</td>\n",
       "      <td>0.028530</td>\n",
       "      <td>0.037766</td>\n",
       "      <td>926.926310</td>\n",
       "      <td>0.000140</td>\n",
       "      <td>0.037919</td>\n",
       "      <td>0.126369</td>\n",
       "      <td>0.037919</td>\n",
       "      <td>0.000390</td>\n",
       "      <td>0.202489</td>\n",
       "      <td>0.037919</td>\n",
       "    </tr>\n",
       "    <tr>\n",
       "      <th>...</th>\n",
       "      <td>...</td>\n",
       "      <td>...</td>\n",
       "      <td>...</td>\n",
       "      <td>...</td>\n",
       "      <td>...</td>\n",
       "      <td>...</td>\n",
       "      <td>...</td>\n",
       "      <td>...</td>\n",
       "      <td>...</td>\n",
       "      <td>...</td>\n",
       "      <td>...</td>\n",
       "      <td>...</td>\n",
       "      <td>...</td>\n",
       "      <td>...</td>\n",
       "      <td>...</td>\n",
       "      <td>...</td>\n",
       "      <td>...</td>\n",
       "      <td>...</td>\n",
       "      <td>...</td>\n",
       "      <td>...</td>\n",
       "      <td>...</td>\n",
       "    </tr>\n",
       "    <tr>\n",
       "      <th>30552</th>\n",
       "      <td>2020-03-15</td>\n",
       "      <td>YWSFY6Q</td>\n",
       "      <td>22.0</td>\n",
       "      <td>14.0</td>\n",
       "      <td>83.0</td>\n",
       "      <td>3848.86</td>\n",
       "      <td>72</td>\n",
       "      <td>6.700000</td>\n",
       "      <td>68.300003</td>\n",
       "      <td>0.00352</td>\n",
       "      <td>...</td>\n",
       "      <td>0.001107</td>\n",
       "      <td>0.039941</td>\n",
       "      <td>192.388239</td>\n",
       "      <td>0.000024</td>\n",
       "      <td>0.001310</td>\n",
       "      <td>0.174995</td>\n",
       "      <td>0.001310</td>\n",
       "      <td>0.000312</td>\n",
       "      <td>-1.953480</td>\n",
       "      <td>0.001310</td>\n",
       "    </tr>\n",
       "    <tr>\n",
       "      <th>30553</th>\n",
       "      <td>2020-03-16</td>\n",
       "      <td>YWSFY6Q</td>\n",
       "      <td>53.0</td>\n",
       "      <td>30.0</td>\n",
       "      <td>146.0</td>\n",
       "      <td>9823.87</td>\n",
       "      <td>72</td>\n",
       "      <td>6.300000</td>\n",
       "      <td>77.700005</td>\n",
       "      <td>0.00341</td>\n",
       "      <td>...</td>\n",
       "      <td>0.004726</td>\n",
       "      <td>0.037872</td>\n",
       "      <td>61.379434</td>\n",
       "      <td>-0.000014</td>\n",
       "      <td>0.007644</td>\n",
       "      <td>0.157659</td>\n",
       "      <td>0.007644</td>\n",
       "      <td>0.000362</td>\n",
       "      <td>-2.178236</td>\n",
       "      <td>0.007644</td>\n",
       "    </tr>\n",
       "    <tr>\n",
       "      <th>30554</th>\n",
       "      <td>2020-03-17</td>\n",
       "      <td>YWSFY6Q</td>\n",
       "      <td>85.0</td>\n",
       "      <td>52.0</td>\n",
       "      <td>153.0</td>\n",
       "      <td>8900.85</td>\n",
       "      <td>72</td>\n",
       "      <td>7.100000</td>\n",
       "      <td>68.500000</td>\n",
       "      <td>0.00356</td>\n",
       "      <td>...</td>\n",
       "      <td>0.026249</td>\n",
       "      <td>0.038539</td>\n",
       "      <td>1572.596434</td>\n",
       "      <td>0.000094</td>\n",
       "      <td>0.025447</td>\n",
       "      <td>0.168295</td>\n",
       "      <td>0.025447</td>\n",
       "      <td>0.000107</td>\n",
       "      <td>-2.365827</td>\n",
       "      <td>0.025447</td>\n",
       "    </tr>\n",
       "    <tr>\n",
       "      <th>30555</th>\n",
       "      <td>2020-03-18</td>\n",
       "      <td>YWSFY6Q</td>\n",
       "      <td>103.0</td>\n",
       "      <td>33.0</td>\n",
       "      <td>149.0</td>\n",
       "      <td>13963.90</td>\n",
       "      <td>72</td>\n",
       "      <td>19.100000</td>\n",
       "      <td>66.300003</td>\n",
       "      <td>0.00523</td>\n",
       "      <td>...</td>\n",
       "      <td>0.144318</td>\n",
       "      <td>0.038757</td>\n",
       "      <td>846.961465</td>\n",
       "      <td>0.000063</td>\n",
       "      <td>0.103292</td>\n",
       "      <td>0.160637</td>\n",
       "      <td>0.173391</td>\n",
       "      <td>0.000014</td>\n",
       "      <td>-2.784346</td>\n",
       "      <td>0.153445</td>\n",
       "    </tr>\n",
       "    <tr>\n",
       "      <th>30556</th>\n",
       "      <td>2020-03-19</td>\n",
       "      <td>YWSFY6Q</td>\n",
       "      <td>89.0</td>\n",
       "      <td>46.0</td>\n",
       "      <td>132.0</td>\n",
       "      <td>9393.64</td>\n",
       "      <td>72</td>\n",
       "      <td>11.600000</td>\n",
       "      <td>68.400002</td>\n",
       "      <td>0.00486</td>\n",
       "      <td>...</td>\n",
       "      <td>0.030848</td>\n",
       "      <td>NaN</td>\n",
       "      <td>NaN</td>\n",
       "      <td>NaN</td>\n",
       "      <td>NaN</td>\n",
       "      <td>NaN</td>\n",
       "      <td>NaN</td>\n",
       "      <td>NaN</td>\n",
       "      <td>NaN</td>\n",
       "      <td>NaN</td>\n",
       "    </tr>\n",
       "  </tbody>\n",
       "</table>\n",
       "<p>30557 rows × 29 columns</p>\n",
       "</div>"
      ],
      "text/plain": [
       "             Date Place_ID  target  target_min  target_max  target_variance  \\\n",
       "0      2020-01-02  010Q650    38.0        23.0        53.0           769.50   \n",
       "1      2020-01-03  010Q650    39.0        25.0        63.0          1319.85   \n",
       "2      2020-01-04  010Q650    24.0         8.0        56.0          1181.96   \n",
       "3      2020-01-05  010Q650    49.0        10.0        55.0          1113.67   \n",
       "4      2020-01-06  010Q650    21.0         9.0        52.0          1164.82   \n",
       "...           ...      ...     ...         ...         ...              ...   \n",
       "30552  2020-03-15  YWSFY6Q    22.0        14.0        83.0          3848.86   \n",
       "30553  2020-03-16  YWSFY6Q    53.0        30.0       146.0          9823.87   \n",
       "30554  2020-03-17  YWSFY6Q    85.0        52.0       153.0          8900.85   \n",
       "30555  2020-03-18  YWSFY6Q   103.0        33.0       149.0         13963.90   \n",
       "30556  2020-03-19  YWSFY6Q    89.0        46.0       132.0          9393.64   \n",
       "\n",
       "       target_count  precipitable_water_entire_atmosphere  \\\n",
       "0                92                             11.000000   \n",
       "1                91                             14.600000   \n",
       "2                96                             16.400000   \n",
       "3                96                              6.911948   \n",
       "4                95                             13.900001   \n",
       "...             ...                                   ...   \n",
       "30552            72                              6.700000   \n",
       "30553            72                              6.300000   \n",
       "30554            72                              7.100000   \n",
       "30555            72                             19.100000   \n",
       "30556            72                             11.600000   \n",
       "\n",
       "       relative_humidity_2m_above_ground  specific_humidity_2m_above_ground  \\\n",
       "0                              60.200001                            0.00804   \n",
       "1                              48.799999                            0.00839   \n",
       "2                              33.400002                            0.00750   \n",
       "3                              21.300001                            0.00391   \n",
       "4                              44.700001                            0.00535   \n",
       "...                                  ...                                ...   \n",
       "30552                          68.300003                            0.00352   \n",
       "30553                          77.700005                            0.00341   \n",
       "30554                          68.500000                            0.00356   \n",
       "30555                          66.300003                            0.00523   \n",
       "30556                          68.400002                            0.00486   \n",
       "\n",
       "       ...  L3_NO2_cloud_fraction  L3_CO_CO_column_number_density  \\\n",
       "0      ...               0.006507                        0.021080   \n",
       "1      ...               0.018360                        0.022017   \n",
       "2      ...               0.015904                        0.020677   \n",
       "3      ...               0.055765                        0.021207   \n",
       "4      ...               0.028530                        0.037766   \n",
       "...    ...                    ...                             ...   \n",
       "30552  ...               0.001107                        0.039941   \n",
       "30553  ...               0.004726                        0.037872   \n",
       "30554  ...               0.026249                        0.038539   \n",
       "30555  ...               0.144318                        0.038757   \n",
       "30556  ...               0.030848                             NaN   \n",
       "\n",
       "       L3_CO_cloud_height  L3_HCHO_tropospheric_HCHO_column_number_density  \\\n",
       "0              267.017184                                         0.000064   \n",
       "1               61.216687                                         0.000171   \n",
       "2              134.700335                                         0.000124   \n",
       "3              474.821444                                         0.000081   \n",
       "4              926.926310                                         0.000140   \n",
       "...                   ...                                              ...   \n",
       "30552          192.388239                                         0.000024   \n",
       "30553           61.379434                                        -0.000014   \n",
       "30554         1572.596434                                         0.000094   \n",
       "30555          846.961465                                         0.000063   \n",
       "30556                 NaN                                              NaN   \n",
       "\n",
       "       L3_HCHO_cloud_fraction  L3_O3_O3_column_number_density  \\\n",
       "0                    0.000000                        0.119095   \n",
       "1                    0.059433                        0.115179   \n",
       "2                    0.082063                        0.115876   \n",
       "3                    0.121261                        0.141557   \n",
       "4                    0.037919                        0.126369   \n",
       "...                       ...                             ...   \n",
       "30552                0.001310                        0.174995   \n",
       "30553                0.007644                        0.157659   \n",
       "30554                0.025447                        0.168295   \n",
       "30555                0.103292                        0.160637   \n",
       "30556                     NaN                             NaN   \n",
       "\n",
       "       L3_O3_cloud_fraction  L3_SO2_SO2_column_number_density  \\\n",
       "0                  0.000000                         -0.000127   \n",
       "1                  0.059433                          0.000150   \n",
       "2                  0.082063                          0.000150   \n",
       "3                  0.121261                          0.000227   \n",
       "4                  0.037919                          0.000390   \n",
       "...                     ...                               ...   \n",
       "30552              0.001310                          0.000312   \n",
       "30553              0.007644                          0.000362   \n",
       "30554              0.025447                          0.000107   \n",
       "30555              0.173391                          0.000014   \n",
       "30556                   NaN                               NaN   \n",
       "\n",
       "       L3_SO2_absorbing_aerosol_index  L3_SO2_cloud_fraction  \n",
       "0                           -1.861476               0.000000  \n",
       "1                           -1.452612               0.059433  \n",
       "2                           -1.572950               0.082063  \n",
       "3                           -1.239317               0.121261  \n",
       "4                            0.202489               0.037919  \n",
       "...                               ...                    ...  \n",
       "30552                       -1.953480               0.001310  \n",
       "30553                       -2.178236               0.007644  \n",
       "30554                       -2.365827               0.025447  \n",
       "30555                       -2.784346               0.153445  \n",
       "30556                             NaN                    NaN  \n",
       "\n",
       "[30557 rows x 29 columns]"
      ]
     },
     "execution_count": 264,
     "metadata": {},
     "output_type": "execute_result"
    }
   ],
   "source": [
    "df = pd.read_pickle(\"data/df_train_1.pkl\")\n",
    "df"
   ]
  },
  {
   "cell_type": "code",
   "execution_count": 265,
   "metadata": {},
   "outputs": [],
   "source": [
    "# create windstrength column\n",
    "#df['windstrength'] = np.sqrt(df.u_component_of_wind_10m_above_ground**2 + df.v_component_of_wind_10m_above_ground**2)\n",
    "#df.windstrength.describe()"
   ]
  },
  {
   "cell_type": "code",
   "execution_count": 266,
   "metadata": {},
   "outputs": [
    {
     "data": {
      "text/plain": [
       "Index(['Date', 'Place_ID', 'target', 'target_min', 'target_max',\n",
       "       'target_variance', 'target_count',\n",
       "       'precipitable_water_entire_atmosphere',\n",
       "       'relative_humidity_2m_above_ground',\n",
       "       'specific_humidity_2m_above_ground', 'temperature_2m_above_ground',\n",
       "       'u_component_of_wind_10m_above_ground',\n",
       "       'v_component_of_wind_10m_above_ground',\n",
       "       'L3_AER_AI_absorbing_aerosol_index', 'L3_CLOUD_cloud_base_height',\n",
       "       'L3_CLOUD_cloud_fraction', 'L3_CLOUD_cloud_optical_depth',\n",
       "       'L3_NO2_NO2_column_number_density', 'L3_NO2_absorbing_aerosol_index',\n",
       "       'L3_NO2_cloud_fraction', 'L3_CO_CO_column_number_density',\n",
       "       'L3_CO_cloud_height', 'L3_HCHO_tropospheric_HCHO_column_number_density',\n",
       "       'L3_HCHO_cloud_fraction', 'L3_O3_O3_column_number_density',\n",
       "       'L3_O3_cloud_fraction', 'L3_SO2_SO2_column_number_density',\n",
       "       'L3_SO2_absorbing_aerosol_index', 'L3_SO2_cloud_fraction'],\n",
       "      dtype='object')"
      ]
     },
     "execution_count": 266,
     "metadata": {},
     "output_type": "execute_result"
    }
   ],
   "source": [
    "df.columns"
   ]
  },
  {
   "cell_type": "code",
   "execution_count": 267,
   "metadata": {},
   "outputs": [
    {
     "data": {
      "text/plain": [
       "Index(['Place_ID', 'target', 'precipitable_water_entire_atmosphere',\n",
       "       'relative_humidity_2m_above_ground',\n",
       "       'specific_humidity_2m_above_ground', 'temperature_2m_above_ground',\n",
       "       'u_component_of_wind_10m_above_ground',\n",
       "       'v_component_of_wind_10m_above_ground',\n",
       "       'L3_AER_AI_absorbing_aerosol_index', 'L3_CLOUD_cloud_base_height',\n",
       "       'L3_CLOUD_cloud_fraction', 'L3_CLOUD_cloud_optical_depth',\n",
       "       'L3_NO2_NO2_column_number_density', 'L3_NO2_absorbing_aerosol_index',\n",
       "       'L3_NO2_cloud_fraction', 'L3_CO_CO_column_number_density',\n",
       "       'L3_CO_cloud_height', 'L3_HCHO_tropospheric_HCHO_column_number_density',\n",
       "       'L3_HCHO_cloud_fraction', 'L3_O3_O3_column_number_density',\n",
       "       'L3_O3_cloud_fraction', 'L3_SO2_SO2_column_number_density',\n",
       "       'L3_SO2_absorbing_aerosol_index', 'L3_SO2_cloud_fraction'],\n",
       "      dtype='object')"
      ]
     },
     "execution_count": 267,
     "metadata": {},
     "output_type": "execute_result"
    }
   ],
   "source": [
    "# Dropping the unnecessary columns \n",
    "df.drop(['Date',\n",
    "         #'Place_ID',\n",
    "         'target_min',\n",
    "         'target_max',\n",
    "         'target_variance',\n",
    "         'target_count',\n",
    "         #'u_component_of_wind_10m_above_ground',\n",
    "         #'v_component_of_wind_10m_above_ground'\n",
    "         ], axis=1, inplace=True)\n",
    "df.columns\n",
    "df.columns"
   ]
  },
  {
   "attachments": {},
   "cell_type": "markdown",
   "metadata": {},
   "source": [
    "#### Categorical and numerical variables"
   ]
  },
  {
   "cell_type": "code",
   "execution_count": 268,
   "metadata": {},
   "outputs": [
    {
     "data": {
      "text/plain": [
       "['Place_ID']"
      ]
     },
     "execution_count": 268,
     "metadata": {},
     "output_type": "execute_result"
    }
   ],
   "source": [
    "# Creating list for categorical predictors/features \n",
    "# (dates are also objects so if you have them in your data you would deal with them first)\n",
    "cat_features = list(df.columns[df.dtypes==object])\n",
    "cat_features"
   ]
  },
  {
   "cell_type": "code",
   "execution_count": 269,
   "metadata": {},
   "outputs": [
    {
     "data": {
      "text/plain": [
       "['precipitable_water_entire_atmosphere',\n",
       " 'relative_humidity_2m_above_ground',\n",
       " 'specific_humidity_2m_above_ground',\n",
       " 'temperature_2m_above_ground',\n",
       " 'u_component_of_wind_10m_above_ground',\n",
       " 'v_component_of_wind_10m_above_ground']"
      ]
     },
     "execution_count": 269,
     "metadata": {},
     "output_type": "execute_result"
    }
   ],
   "source": [
    "# Creating list for numerical predictors/features\n",
    "# Since 'target' is our target variable we will exclude this feature from this list of numerical predictors \n",
    "num_features = [#'target_min', 'target_max', 'target_variance', 'target_count',\n",
    "       'precipitable_water_entire_atmosphere',\n",
    "       'relative_humidity_2m_above_ground',\n",
    "       'specific_humidity_2m_above_ground',\n",
    "       'temperature_2m_above_ground',\n",
    "       'u_component_of_wind_10m_above_ground',\n",
    "       'v_component_of_wind_10m_above_ground'\n",
    "       ]\n",
    "num_features"
   ]
  },
  {
   "cell_type": "code",
   "execution_count": 270,
   "metadata": {},
   "outputs": [
    {
     "data": {
      "text/plain": [
       "['L3_AER_AI_absorbing_aerosol_index',\n",
       " 'L3_CLOUD_cloud_base_height',\n",
       " 'L3_CLOUD_cloud_fraction',\n",
       " 'L3_CLOUD_cloud_optical_depth',\n",
       " 'L3_NO2_NO2_column_number_density',\n",
       " 'L3_NO2_cloud_fraction',\n",
       " 'L3_CO_cloud_height',\n",
       " 'L3_HCHO_tropospheric_HCHO_column_number_density',\n",
       " 'L3_HCHO_cloud_fraction',\n",
       " 'L3_SO2_SO2_column_number_density',\n",
       " 'L3_SO2_cloud_fraction']"
      ]
     },
     "execution_count": 270,
     "metadata": {},
     "output_type": "execute_result"
    }
   ],
   "source": [
    "# Creating list for numerical predictors/features\n",
    "# Since 'outcome' is our target variable we will exclude this feature from this list of numerical predictors \n",
    "miss_features = ['L3_AER_AI_absorbing_aerosol_index', \n",
    "       'L3_CLOUD_cloud_base_height',\n",
    "       'L3_CLOUD_cloud_fraction', \n",
    "       'L3_CLOUD_cloud_optical_depth',\n",
    "       'L3_NO2_NO2_column_number_density',\n",
    "       'L3_NO2_cloud_fraction', \n",
    "       'L3_CO_cloud_height',\n",
    "       'L3_HCHO_tropospheric_HCHO_column_number_density',\n",
    "       'L3_HCHO_cloud_fraction', \n",
    "       'L3_SO2_SO2_column_number_density',\n",
    "       'L3_SO2_cloud_fraction']\n",
    "miss_features"
   ]
  },
  {
   "cell_type": "code",
   "execution_count": 271,
   "metadata": {},
   "outputs": [
    {
     "data": {
      "text/plain": [
       "['L3_NO2_absorbing_aerosol_index',\n",
       " 'L3_CO_CO_column_number_density',\n",
       " 'L3_O3_O3_column_number_density',\n",
       " 'L3_O3_cloud_fraction',\n",
       " 'L3_SO2_absorbing_aerosol_index']"
      ]
     },
     "execution_count": 271,
     "metadata": {},
     "output_type": "execute_result"
    }
   ],
   "source": [
    "replace_features = [\"L3_NO2_absorbing_aerosol_index\",\n",
    "                    \"L3_CO_CO_column_number_density\",\n",
    "                    \"L3_O3_O3_column_number_density\",\n",
    "                    \"L3_O3_cloud_fraction\",\n",
    "                    \"L3_SO2_absorbing_aerosol_index\"]\n",
    "replace_features"
   ]
  },
  {
   "attachments": {},
   "cell_type": "markdown",
   "metadata": {},
   "source": [
    "#### Train-Test-Split"
   ]
  },
  {
   "cell_type": "code",
   "execution_count": 272,
   "metadata": {},
   "outputs": [
    {
     "name": "stdout",
     "output_type": "stream",
     "text": [
      "We have 30557 observations in our dataset and 23 features\n",
      "Our target vector has also 30557 values\n"
     ]
    }
   ],
   "source": [
    "# Define predictors and target variable\n",
    "X = df.drop('target', axis=1)\n",
    "y = df['target']\n",
    "print(f\"We have {X.shape[0]} observations in our dataset and {X.shape[1]} features\")\n",
    "print(f\"Our target vector has also {y.shape[0]} values\")"
   ]
  },
  {
   "cell_type": "code",
   "execution_count": 273,
   "metadata": {},
   "outputs": [],
   "source": [
    "# Split into train and test set \n",
    "X_train, X_test, y_train, y_test = train_test_split(X, y, test_size=0.3, random_state=RSEED) "
   ]
  },
  {
   "cell_type": "code",
   "execution_count": 274,
   "metadata": {},
   "outputs": [
    {
     "name": "stdout",
     "output_type": "stream",
     "text": [
      "X_train shape: (21389, 23)\n",
      "X_test shape: (9168, 23)\n",
      "y_train shape: (21389,)\n",
      "y_test shape: (9168,)\n"
     ]
    }
   ],
   "source": [
    "print('X_train shape:', X_train.shape)\n",
    "print('X_test shape:', X_test.shape)\n",
    "print('y_train shape:', y_train.shape)\n",
    "print('y_test shape:', y_test.shape)"
   ]
  },
  {
   "attachments": {},
   "cell_type": "markdown",
   "metadata": {},
   "source": [
    "#### Preprocessing Pipeline"
   ]
  },
  {
   "cell_type": "code",
   "execution_count": 275,
   "metadata": {},
   "outputs": [],
   "source": [
    "#from sklearn.pipeline import Pipeline\n",
    "\n",
    "# Pipline for numerical features\n",
    "# Initiating Pipeline and calling one step after another\n",
    "# each step is built as a list of (key, value)\n",
    "# key is the name of the processing step\n",
    "# value is an estimator object (processing step)\n",
    "num_pipeline = Pipeline([\n",
    "    ('std_scaler', StandardScaler())\n",
    "])\n",
    "# Pipeline for missing values: in this case missing values are nan!\n",
    "miss_pipeline = Pipeline([\n",
    "    ('imputer_num', SimpleImputer(strategy='median',missing_values=np.nan)),\n",
    "    ('std_scaler', StandardScaler())\n",
    "])\n",
    "# replace 0 values\n",
    "# Pipeline for missing values: in this case missing values are 0!\n",
    "replace_pipeline = Pipeline([\n",
    "    ('imputer_null', SimpleImputer(strategy='constant', fill_value = 0)),\n",
    "    ('imputer_nan', SimpleImputer(strategy='median', missing_values= 0)),\n",
    "    ('std_scaler', StandardScaler())\n",
    "])\n",
    "\n",
    "# Pipeline for categorical features \n",
    "cat_pipeline = Pipeline([\n",
    "    ('imputer_cat', SimpleImputer(strategy='constant')),\n",
    "    ('1hot', OneHotEncoder(handle_unknown='ignore'))\n",
    "])"
   ]
  },
  {
   "cell_type": "code",
   "execution_count": 276,
   "metadata": {},
   "outputs": [],
   "source": [
    "#from sklearn.compose import ColumnTransformer\n",
    "\n",
    "# Complete pipeline for numerical and categorical features\n",
    "# 'ColumnTranformer' applies transformers (num_pipeline/ cat_pipeline)\n",
    "# to specific columns of an array or DataFrame (num_features/cat_features)\n",
    "preprocessor = ColumnTransformer([\n",
    "    ('num', num_pipeline, num_features),\n",
    "    ('cat', cat_pipeline, cat_features),\n",
    "    ('miss', miss_pipeline, miss_features),\n",
    "    ('replace', replace_pipeline, replace_features)\n",
    "])\n"
   ]
  },
  {
   "attachments": {},
   "cell_type": "markdown",
   "metadata": {},
   "source": [
    "### Predictive modeling using Pipelines and GridSearch"
   ]
  },
  {
   "attachments": {},
   "cell_type": "markdown",
   "metadata": {},
   "source": [
    "#### Decision Tree"
   ]
  },
  {
   "cell_type": "code",
   "execution_count": 277,
   "metadata": {},
   "outputs": [],
   "source": [
    "# Building a full pipeline with our preprocessor and a DecisionTreeRegressor\n",
    "pipe_destree = Pipeline([\n",
    "    ('preprocessor', preprocessor),\n",
    "    ('destree', DecisionTreeRegressor())\n",
    "])"
   ]
  },
  {
   "cell_type": "code",
   "execution_count": 278,
   "metadata": {},
   "outputs": [],
   "source": [
    "# Making predictions on the training set using cross validation as well as calculating the probabilities\n",
    "# cross_val_predict expects an estimator (model), X, y and nr of cv-splits (cv)\n",
    "y_train_predicted = cross_val_predict(pipe_destree, X_train, y_train, cv=5)"
   ]
  },
  {
   "cell_type": "code",
   "execution_count": 279,
   "metadata": {},
   "outputs": [
    {
     "name": "stdout",
     "output_type": "stream",
     "text": [
      "MSE Dtree Train:\n",
      " 1906.8871667679648\n",
      "RMSE Dtree Train:\n",
      " 43.66791919439218\n",
      "R^2 Dtree Train:\n",
      " 0.1376827942524198\n"
     ]
    }
   ],
   "source": [
    "# Mean Squared Error\n",
    "print('MSE Dtree Train:\\n', mean_squared_error(y_train, y_train_predicted))\n",
    "\n",
    "# Root Mean Squared Error\n",
    "print('RMSE Dtree Train:\\n', mean_squared_error(y_train, y_train_predicted, squared = False))\n",
    "\n",
    "# R^2 Score\n",
    "print('R^2 Dtree Train:\\n', r2_score(y_train, y_train_predicted))\n"
   ]
  },
  {
   "attachments": {},
   "cell_type": "markdown",
   "metadata": {},
   "source": [
    "#### Optimizing via GridSearch"
   ]
  },
  {
   "cell_type": "code",
   "execution_count": 280,
   "metadata": {},
   "outputs": [],
   "source": [
    "# Defining parameter space for grid-search. Since we want to access the classifier step (called 'logreg') in our pipeline \n",
    "# we have to add 'logreg__' infront of the corresponding hyperparameters. \n",
    "param_destree = { \"destree__max_depth\" : [100000000]}\n",
    "grid_destree = GridSearchCV(pipe_destree, param_grid=param_destree, scoring = 'r2', cv=5,\n",
    "                           verbose=1, n_jobs=-1)"
   ]
  },
  {
   "cell_type": "code",
   "execution_count": 281,
   "metadata": {},
   "outputs": [
    {
     "name": "stdout",
     "output_type": "stream",
     "text": [
      "Fitting 5 folds for each of 1 candidates, totalling 5 fits\n"
     ]
    },
    {
     "data": {
      "text/plain": [
       "GridSearchCV(cv=5,\n",
       "             estimator=Pipeline(steps=[('preprocessor',\n",
       "                                        ColumnTransformer(transformers=[('num',\n",
       "                                                                         Pipeline(steps=[('std_scaler',\n",
       "                                                                                          StandardScaler())]),\n",
       "                                                                         ['precipitable_water_entire_atmosphere',\n",
       "                                                                          'relative_humidity_2m_above_ground',\n",
       "                                                                          'specific_humidity_2m_above_ground',\n",
       "                                                                          'temperature_2m_above_ground',\n",
       "                                                                          'u_component_of_wind_10m_above_ground',\n",
       "                                                                          'v_component_of_wind...\n",
       "                                                                                          SimpleImputer(missing_values=0,\n",
       "                                                                                                        strategy='median')),\n",
       "                                                                                         ('std_scaler',\n",
       "                                                                                          StandardScaler())]),\n",
       "                                                                         ['L3_NO2_absorbing_aerosol_index',\n",
       "                                                                          'L3_CO_CO_column_number_density',\n",
       "                                                                          'L3_O3_O3_column_number_density',\n",
       "                                                                          'L3_O3_cloud_fraction',\n",
       "                                                                          'L3_SO2_absorbing_aerosol_index'])])),\n",
       "                                       ('destree', DecisionTreeRegressor())]),\n",
       "             n_jobs=-1, param_grid={'destree__max_depth': [100000000]},\n",
       "             scoring='r2', verbose=1)"
      ]
     },
     "execution_count": 281,
     "metadata": {},
     "output_type": "execute_result"
    }
   ],
   "source": [
    "grid_destree.fit(X_train, y_train)"
   ]
  },
  {
   "cell_type": "code",
   "execution_count": 282,
   "metadata": {},
   "outputs": [
    {
     "name": "stdout",
     "output_type": "stream",
     "text": [
      "Best score:\n",
      "0.16\n",
      "Best parameters:\n",
      "{'destree__max_depth': 100000000}\n"
     ]
    }
   ],
   "source": [
    "# Show best parameters\n",
    "print('Best score:\\n{:.2f}'.format(grid_destree.best_score_))\n",
    "print(\"Best parameters:\\n{}\".format(grid_destree.best_params_))"
   ]
  },
  {
   "cell_type": "code",
   "execution_count": 283,
   "metadata": {},
   "outputs": [
    {
     "data": {
      "text/plain": [
       "Pipeline(steps=[('preprocessor',\n",
       "                 ColumnTransformer(transformers=[('num',\n",
       "                                                  Pipeline(steps=[('std_scaler',\n",
       "                                                                   StandardScaler())]),\n",
       "                                                  ['precipitable_water_entire_atmosphere',\n",
       "                                                   'relative_humidity_2m_above_ground',\n",
       "                                                   'specific_humidity_2m_above_ground',\n",
       "                                                   'temperature_2m_above_ground',\n",
       "                                                   'u_component_of_wind_10m_above_ground',\n",
       "                                                   'v_component_of_wind_10m_above_ground']),\n",
       "                                                 ('cat',...\n",
       "                                                                   SimpleImputer(fill_value=0,\n",
       "                                                                                 strategy='constant')),\n",
       "                                                                  ('imputer_nan',\n",
       "                                                                   SimpleImputer(missing_values=0,\n",
       "                                                                                 strategy='median')),\n",
       "                                                                  ('std_scaler',\n",
       "                                                                   StandardScaler())]),\n",
       "                                                  ['L3_NO2_absorbing_aerosol_index',\n",
       "                                                   'L3_CO_CO_column_number_density',\n",
       "                                                   'L3_O3_O3_column_number_density',\n",
       "                                                   'L3_O3_cloud_fraction',\n",
       "                                                   'L3_SO2_absorbing_aerosol_index'])])),\n",
       "                ('destree', DecisionTreeRegressor(max_depth=100000000))])"
      ]
     },
     "execution_count": 283,
     "metadata": {},
     "output_type": "execute_result"
    }
   ],
   "source": [
    "# Save best model (including fitted preprocessing steps) as best_model \n",
    "best_model = grid_destree.best_estimator_\n",
    "best_model"
   ]
  },
  {
   "cell_type": "code",
   "execution_count": 284,
   "metadata": {},
   "outputs": [
    {
     "name": "stdout",
     "output_type": "stream",
     "text": [
      "MSE Dtree Test:\n",
      " 1776.2950632635254\n",
      "RMSE Dtree Test:\n",
      " 42.14611563671705\n",
      "R^2 Dtree Test:\n",
      " 0.17753983637421367\n"
     ]
    }
   ],
   "source": [
    "# Calculating the accuracy, recall and precision for the test set with the optimized model\n",
    "y_test_predicted = best_model.predict(X_test)\n",
    "\n",
    "# Mean Squared Error\n",
    "print('MSE Dtree Test:\\n', mean_squared_error(y_test, y_test_predicted))\n",
    "\n",
    "# Root Mean Squared Error\n",
    "print('RMSE Dtree Test:\\n', mean_squared_error(y_test, y_test_predicted, squared = False))\n",
    "\n",
    "# R^2 Score\n",
    "print('R^2 Dtree Test:\\n', r2_score(y_test, y_test_predicted))"
   ]
  }
 ],
 "metadata": {
  "colab": {
   "name": "Diabetes-Challenge.ipynb",
   "provenance": []
  },
  "kernelspec": {
   "display_name": ".venv",
   "language": "python",
   "name": "python3"
  },
  "language_info": {
   "codemirror_mode": {
    "name": "ipython",
    "version": 3
   },
   "file_extension": ".py",
   "mimetype": "text/x-python",
   "name": "python",
   "nbconvert_exporter": "python",
   "pygments_lexer": "ipython3",
   "version": "3.9.8"
  },
  "vscode": {
   "interpreter": {
    "hash": "a87d0b845af0b442c9dda2c58fa5929df2c77efe4302075aa3a7b25cdb10c7de"
   }
  }
 },
 "nbformat": 4,
 "nbformat_minor": 4
}

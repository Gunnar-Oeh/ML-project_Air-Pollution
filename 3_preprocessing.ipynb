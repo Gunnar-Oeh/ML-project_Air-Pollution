{
 "cells": [
  {
   "attachments": {},
   "cell_type": "markdown",
   "metadata": {},
   "source": [
    "#### Columns to keep\n",
    "\n",
    "- meas_columns\n",
    "- L3_CO_CO_column_number_density\n",
    "- L3_NO2_NO2_column_number_density\n",
    "- L3_CO_cloud_height\n",
    "- L3_NO2_absorbing_aerosol_index\n",
    "- L3_NO2_cloud_fraction\n",
    "- L3_HCHO_cloud_fraction\n",
    "- L3_HCHO_tropospheric_HCHO_column_number_density\n",
    "\n",
    "- L3_SO2_SO2_column_number_density\n",
    "- L3_SO2_absorbing_aerosol_index\n",
    "- L3_SO2_cloud_fraction\n",
    "- L3_O3_O3_column_number_density\n",
    "- L3_O3_cloud_fraction\n",
    "\n",
    "- 'L3_CLOUD_cloud_fraction'\n",
    "- 'L3_CLOUD_cloud_optical_depth'\n",
    "- 'L3_CLOUD_cloud_base_height'\n",
    "- L3_AER_AI_absorbing_aerosol_index"
   ]
  },
  {
   "cell_type": "code",
   "execution_count": 1,
   "metadata": {},
   "outputs": [],
   "source": [
    "#import\n",
    "import pandas as pd\n",
    "import numpy as np\n",
    "import warnings\n",
    "warnings.filterwarnings('ignore')\n",
    "import matplotlib.pyplot as plt\n",
    "import seaborn as sns\n",
    "\n",
    "\n",
    "from matplotlib.ticker import PercentFormatter\n",
    "plt.rcParams.update({ \"figure.figsize\" : (8, 5),\"axes.facecolor\" : \"white\", \"axes.edgecolor\":  \"black\"})\n",
    "plt.rcParams[\"figure.facecolor\"]= \"w\"\n",
    "pd.plotting.register_matplotlib_converters()\n",
    "pd.set_option('display.float_format', lambda x: '%.2f' % x) # change decimal places\n"
   ]
  },
  {
   "attachments": {},
   "cell_type": "markdown",
   "metadata": {},
   "source": [
    "Ground-based air quality sensors. These measure the target variable (PM2.5 particle concentration). In addition to the target column (which is the daily mean concentration) there are also columns for minimum and maximum readings on that day, the variance of the readings and the total number (count) of sensor readings used to compute the target value. This data is only provided for the train set - you must predict the target variable for the test set."
   ]
  },
  {
   "cell_type": "code",
   "execution_count": 2,
   "metadata": {},
   "outputs": [
    {
     "data": {
      "text/html": [
       "<div>\n",
       "<style scoped>\n",
       "    .dataframe tbody tr th:only-of-type {\n",
       "        vertical-align: middle;\n",
       "    }\n",
       "\n",
       "    .dataframe tbody tr th {\n",
       "        vertical-align: top;\n",
       "    }\n",
       "\n",
       "    .dataframe thead th {\n",
       "        text-align: right;\n",
       "    }\n",
       "</style>\n",
       "<table border=\"1\" class=\"dataframe\">\n",
       "  <thead>\n",
       "    <tr style=\"text-align: right;\">\n",
       "      <th></th>\n",
       "      <th>Place_ID X Date</th>\n",
       "      <th>Date</th>\n",
       "      <th>Place_ID</th>\n",
       "      <th>target</th>\n",
       "      <th>target_min</th>\n",
       "      <th>target_max</th>\n",
       "      <th>target_variance</th>\n",
       "      <th>target_count</th>\n",
       "      <th>precipitable_water_entire_atmosphere</th>\n",
       "      <th>relative_humidity_2m_above_ground</th>\n",
       "      <th>...</th>\n",
       "      <th>L3_SO2_sensor_zenith_angle</th>\n",
       "      <th>L3_SO2_solar_azimuth_angle</th>\n",
       "      <th>L3_SO2_solar_zenith_angle</th>\n",
       "      <th>L3_CH4_CH4_column_volume_mixing_ratio_dry_air</th>\n",
       "      <th>L3_CH4_aerosol_height</th>\n",
       "      <th>L3_CH4_aerosol_optical_depth</th>\n",
       "      <th>L3_CH4_sensor_azimuth_angle</th>\n",
       "      <th>L3_CH4_sensor_zenith_angle</th>\n",
       "      <th>L3_CH4_solar_azimuth_angle</th>\n",
       "      <th>L3_CH4_solar_zenith_angle</th>\n",
       "    </tr>\n",
       "  </thead>\n",
       "  <tbody>\n",
       "    <tr>\n",
       "      <th>0</th>\n",
       "      <td>010Q650 X 2020-01-02</td>\n",
       "      <td>2020-01-02</td>\n",
       "      <td>010Q650</td>\n",
       "      <td>38.00</td>\n",
       "      <td>23.00</td>\n",
       "      <td>53.00</td>\n",
       "      <td>769.50</td>\n",
       "      <td>92</td>\n",
       "      <td>11.00</td>\n",
       "      <td>60.20</td>\n",
       "      <td>...</td>\n",
       "      <td>38.59</td>\n",
       "      <td>-61.75</td>\n",
       "      <td>22.36</td>\n",
       "      <td>1793.79</td>\n",
       "      <td>3227.86</td>\n",
       "      <td>0.01</td>\n",
       "      <td>74.48</td>\n",
       "      <td>37.50</td>\n",
       "      <td>-62.14</td>\n",
       "      <td>22.55</td>\n",
       "    </tr>\n",
       "    <tr>\n",
       "      <th>1</th>\n",
       "      <td>010Q650 X 2020-01-03</td>\n",
       "      <td>2020-01-03</td>\n",
       "      <td>010Q650</td>\n",
       "      <td>39.00</td>\n",
       "      <td>25.00</td>\n",
       "      <td>63.00</td>\n",
       "      <td>1319.85</td>\n",
       "      <td>91</td>\n",
       "      <td>14.60</td>\n",
       "      <td>48.80</td>\n",
       "      <td>...</td>\n",
       "      <td>59.62</td>\n",
       "      <td>-67.69</td>\n",
       "      <td>28.61</td>\n",
       "      <td>1789.96</td>\n",
       "      <td>3384.23</td>\n",
       "      <td>0.02</td>\n",
       "      <td>75.63</td>\n",
       "      <td>55.66</td>\n",
       "      <td>-53.87</td>\n",
       "      <td>19.29</td>\n",
       "    </tr>\n",
       "    <tr>\n",
       "      <th>2</th>\n",
       "      <td>010Q650 X 2020-01-04</td>\n",
       "      <td>2020-01-04</td>\n",
       "      <td>010Q650</td>\n",
       "      <td>24.00</td>\n",
       "      <td>8.00</td>\n",
       "      <td>56.00</td>\n",
       "      <td>1181.96</td>\n",
       "      <td>96</td>\n",
       "      <td>16.40</td>\n",
       "      <td>33.40</td>\n",
       "      <td>...</td>\n",
       "      <td>49.84</td>\n",
       "      <td>-78.34</td>\n",
       "      <td>34.30</td>\n",
       "      <td>NaN</td>\n",
       "      <td>NaN</td>\n",
       "      <td>NaN</td>\n",
       "      <td>NaN</td>\n",
       "      <td>NaN</td>\n",
       "      <td>NaN</td>\n",
       "      <td>NaN</td>\n",
       "    </tr>\n",
       "    <tr>\n",
       "      <th>3</th>\n",
       "      <td>010Q650 X 2020-01-05</td>\n",
       "      <td>2020-01-05</td>\n",
       "      <td>010Q650</td>\n",
       "      <td>49.00</td>\n",
       "      <td>10.00</td>\n",
       "      <td>55.00</td>\n",
       "      <td>1113.67</td>\n",
       "      <td>96</td>\n",
       "      <td>6.91</td>\n",
       "      <td>21.30</td>\n",
       "      <td>...</td>\n",
       "      <td>29.18</td>\n",
       "      <td>-73.90</td>\n",
       "      <td>30.55</td>\n",
       "      <td>NaN</td>\n",
       "      <td>NaN</td>\n",
       "      <td>NaN</td>\n",
       "      <td>NaN</td>\n",
       "      <td>NaN</td>\n",
       "      <td>NaN</td>\n",
       "      <td>NaN</td>\n",
       "    </tr>\n",
       "    <tr>\n",
       "      <th>4</th>\n",
       "      <td>010Q650 X 2020-01-06</td>\n",
       "      <td>2020-01-06</td>\n",
       "      <td>010Q650</td>\n",
       "      <td>21.00</td>\n",
       "      <td>9.00</td>\n",
       "      <td>52.00</td>\n",
       "      <td>1164.82</td>\n",
       "      <td>95</td>\n",
       "      <td>13.90</td>\n",
       "      <td>44.70</td>\n",
       "      <td>...</td>\n",
       "      <td>0.80</td>\n",
       "      <td>-68.61</td>\n",
       "      <td>26.90</td>\n",
       "      <td>NaN</td>\n",
       "      <td>NaN</td>\n",
       "      <td>NaN</td>\n",
       "      <td>NaN</td>\n",
       "      <td>NaN</td>\n",
       "      <td>NaN</td>\n",
       "      <td>NaN</td>\n",
       "    </tr>\n",
       "  </tbody>\n",
       "</table>\n",
       "<p>5 rows × 82 columns</p>\n",
       "</div>"
      ],
      "text/plain": [
       "        Place_ID X Date        Date Place_ID  target  target_min  target_max  \\\n",
       "0  010Q650 X 2020-01-02  2020-01-02  010Q650   38.00       23.00       53.00   \n",
       "1  010Q650 X 2020-01-03  2020-01-03  010Q650   39.00       25.00       63.00   \n",
       "2  010Q650 X 2020-01-04  2020-01-04  010Q650   24.00        8.00       56.00   \n",
       "3  010Q650 X 2020-01-05  2020-01-05  010Q650   49.00       10.00       55.00   \n",
       "4  010Q650 X 2020-01-06  2020-01-06  010Q650   21.00        9.00       52.00   \n",
       "\n",
       "   target_variance  target_count  precipitable_water_entire_atmosphere  \\\n",
       "0           769.50            92                                 11.00   \n",
       "1          1319.85            91                                 14.60   \n",
       "2          1181.96            96                                 16.40   \n",
       "3          1113.67            96                                  6.91   \n",
       "4          1164.82            95                                 13.90   \n",
       "\n",
       "   relative_humidity_2m_above_ground  ...  L3_SO2_sensor_zenith_angle  \\\n",
       "0                              60.20  ...                       38.59   \n",
       "1                              48.80  ...                       59.62   \n",
       "2                              33.40  ...                       49.84   \n",
       "3                              21.30  ...                       29.18   \n",
       "4                              44.70  ...                        0.80   \n",
       "\n",
       "   L3_SO2_solar_azimuth_angle  L3_SO2_solar_zenith_angle  \\\n",
       "0                      -61.75                      22.36   \n",
       "1                      -67.69                      28.61   \n",
       "2                      -78.34                      34.30   \n",
       "3                      -73.90                      30.55   \n",
       "4                      -68.61                      26.90   \n",
       "\n",
       "   L3_CH4_CH4_column_volume_mixing_ratio_dry_air  L3_CH4_aerosol_height  \\\n",
       "0                                        1793.79                3227.86   \n",
       "1                                        1789.96                3384.23   \n",
       "2                                            NaN                    NaN   \n",
       "3                                            NaN                    NaN   \n",
       "4                                            NaN                    NaN   \n",
       "\n",
       "   L3_CH4_aerosol_optical_depth  L3_CH4_sensor_azimuth_angle  \\\n",
       "0                          0.01                        74.48   \n",
       "1                          0.02                        75.63   \n",
       "2                           NaN                          NaN   \n",
       "3                           NaN                          NaN   \n",
       "4                           NaN                          NaN   \n",
       "\n",
       "   L3_CH4_sensor_zenith_angle  L3_CH4_solar_azimuth_angle  \\\n",
       "0                       37.50                      -62.14   \n",
       "1                       55.66                      -53.87   \n",
       "2                         NaN                         NaN   \n",
       "3                         NaN                         NaN   \n",
       "4                         NaN                         NaN   \n",
       "\n",
       "   L3_CH4_solar_zenith_angle  \n",
       "0                      22.55  \n",
       "1                      19.29  \n",
       "2                        NaN  \n",
       "3                        NaN  \n",
       "4                        NaN  \n",
       "\n",
       "[5 rows x 82 columns]"
      ]
     },
     "execution_count": 2,
     "metadata": {},
     "output_type": "execute_result"
    }
   ],
   "source": [
    "# load the data\n",
    "df_train = pd.read_csv('data/Train.csv')\n",
    "df_train.head()"
   ]
  },
  {
   "cell_type": "code",
   "execution_count": 3,
   "metadata": {},
   "outputs": [],
   "source": [
    "### List of weather and satellite measurement_columns to keep\n",
    "col_keep = list(df_train.columns[0:14]) + ['L3_AER_AI_absorbing_aerosol_index', # AER\n",
    "                # CLOUD\n",
    "                'L3_CLOUD_cloud_base_height',\n",
    "                'L3_CLOUD_cloud_fraction',\n",
    "                'L3_CLOUD_cloud_optical_depth',\n",
    "                ## NO2\n",
    "                'L3_NO2_NO2_column_number_density',\n",
    "                'L3_NO2_absorbing_aerosol_index',\n",
    "                'L3_NO2_cloud_fraction',\n",
    "                ## CO\n",
    "                'L3_CO_CO_column_number_density',\n",
    "                'L3_CO_cloud_height',\n",
    "                ## HCHO\n",
    "                'L3_HCHO_tropospheric_HCHO_column_number_density',\n",
    "                'L3_HCHO_cloud_fraction',\n",
    "                ## O3\n",
    "                'L3_O3_O3_column_number_density',\n",
    "                'L3_O3_cloud_fraction',\n",
    "                ## SO2\n",
    "                'L3_SO2_SO2_column_number_density',\n",
    "                'L3_SO2_absorbing_aerosol_index',\n",
    "                'L3_SO2_cloud_fraction'\n",
    "                ]\n",
    "\n",
    "df_train = df_train[col_keep]"
   ]
  },
  {
   "cell_type": "code",
   "execution_count": 4,
   "metadata": {},
   "outputs": [],
   "source": [
    "import pickle"
   ]
  },
  {
   "cell_type": "code",
   "execution_count": 5,
   "metadata": {},
   "outputs": [],
   "source": [
    "pd.to_pickle(df_train, 'data/df_train.pkl')"
   ]
  },
  {
   "cell_type": "code",
   "execution_count": 6,
   "metadata": {},
   "outputs": [],
   "source": [
    "pd.to_pickle(col_keep, 'data/col_keep.pkl')"
   ]
  },
  {
   "cell_type": "code",
   "execution_count": 7,
   "metadata": {},
   "outputs": [
    {
     "data": {
      "text/plain": [
       "(30557, 30)"
      ]
     },
     "execution_count": 7,
     "metadata": {},
     "output_type": "execute_result"
    }
   ],
   "source": [
    "df_train.shape"
   ]
  },
  {
   "attachments": {},
   "cell_type": "markdown",
   "metadata": {},
   "source": [
    "#### To Do\n",
    "\n",
    "- **train-test-split**\n",
    "- replace 0 with NaN in relevant columns\n",
    "- impute missing values\n",
    "- (log-transform particle concentration)\n",
    "\n",
    "- throw out all columns with molecules (only keep weather-related cols) for the baseline models"
   ]
  },
  {
   "cell_type": "code",
   "execution_count": null,
   "metadata": {},
   "outputs": [],
   "source": []
  },
  {
   "cell_type": "code",
   "execution_count": 8,
   "metadata": {},
   "outputs": [],
   "source": [
    "df_train.drop(['target_min', 'target_max', 'target_variance', 'target_count'], axis=1, inplace=True)\n"
   ]
  },
  {
   "cell_type": "code",
   "execution_count": 10,
   "metadata": {},
   "outputs": [],
   "source": [
    "from sklearn.model_selection import train_test_split\n",
    "\n",
    "# define X and y\n",
    "X = df_train.drop(['target'], axis=1)\n",
    "y = df_train.target\n",
    "\n",
    "# train-test-split\n",
    "X_train, X_test, y_train, y_test = train_test_split(X, y, test_size=0.3, random_state=42)"
   ]
  },
  {
   "cell_type": "code",
   "execution_count": 23,
   "metadata": {},
   "outputs": [
    {
     "data": {
      "text/plain": [
       "LinearRegression()"
      ]
     },
     "execution_count": 23,
     "metadata": {},
     "output_type": "execute_result"
    }
   ],
   "source": [
    "from sklearn.linear_model import LinearRegression\n",
    "coluse = ['precipitable_water_entire_atmosphere', 'relative_humidity_2m_above_ground', 'specific_humidity_2m_above_ground', 'temperature_2m_above_ground', 'u_component_of_wind_10m_above_ground', 'v_component_of_wind_10m_above_ground']\n",
    "# instantiate the model\n",
    "linreg = LinearRegression()\n",
    "\n",
    "# fit model\n",
    "linreg.fit(X_train[coluse], y_train)"
   ]
  },
  {
   "cell_type": "code",
   "execution_count": 24,
   "metadata": {},
   "outputs": [],
   "source": [
    "# predict\n",
    "y_train_pred = linreg.predict(X_train[coluse])\n",
    "y_pred = linreg.predict(X_test[coluse])"
   ]
  },
  {
   "cell_type": "code",
   "execution_count": 21,
   "metadata": {},
   "outputs": [],
   "source": [
    "from sklearn.metrics import mean_squared_error, accuracy_score, recall_score, roc_auc_score, f1_score, roc_curve, r2_score"
   ]
  },
  {
   "cell_type": "code",
   "execution_count": 25,
   "metadata": {},
   "outputs": [
    {
     "name": "stdout",
     "output_type": "stream",
     "text": [
      "MSE_Baseline Train:\n",
      " 2114.3870898762484\n",
      "MSE_Baseline Test:\n",
      " 2067.9936882800084\n",
      "RMSE_Baseline Train:\n",
      " 45.98246502609716\n",
      "RMSE_Baseline Test:\n",
      " 45.47519860627338\n",
      "R^2 Train:\n",
      " 0.04384884486838381\n",
      "R^2 Test:\n",
      " 0.04247753517089092\n"
     ]
    }
   ],
   "source": [
    "# Mean Squared Error\n",
    "print('MSE_Baseline Train:\\n', mean_squared_error(y_train, y_train_pred))\n",
    "print('MSE_Baseline Test:\\n', mean_squared_error(y_test, y_pred))\n",
    "\n",
    "# Root Mean Squared Error\n",
    "print('RMSE_Baseline Train:\\n', mean_squared_error(y_train, y_train_pred, squared = False))\n",
    "print('RMSE_Baseline Test:\\n', mean_squared_error(y_test, y_pred, squared = False))\n",
    "\n",
    "# R^2 Score\n",
    "print('R^2 Train:\\n', r2_score(y_train, y_train_pred))\n",
    "print('R^2 Test:\\n', r2_score(y_test, y_pred))\n"
   ]
  },
  {
   "attachments": {},
   "cell_type": "markdown",
   "metadata": {},
   "source": [
    "## Baseline Model\n",
    "\n",
    "Air Pollution Prediction\n",
    "\n",
    "Value of Product:\n",
    "\n",
    "predict PM2.5 particle concentration \n",
    "\n",
    "Prediction:\n",
    "\n",
    "PM2.5 value \n",
    "\n",
    "Evaluation Metric:\n",
    "\n",
    "RMSE (also recommended by Zindi)\n",
    "\n",
    "Baseline Model:\n",
    "\n",
    "Model: Linear Regression\n",
    "\n",
    "$ PM 2.5 = bo + b1 * temperature + b2 * humidity + b2 * precipitation + b3 * windspeed $\n",
    "\n",
    "Score:\n",
    "\n",
    "RMSE_Baseline Train:\n",
    "\n",
    " 45.98246502609716\n",
    "\n",
    "RMSE_Baseline Test:\n",
    "\n",
    " 45.47519860627338\n",
    "\n",
    "R^2 Train:\n",
    "\n",
    " 0.04384884486838381\n",
    "\n",
    "R^2 Test:\n",
    "\n",
    " 0.04247753517089092"
   ]
  },
  {
   "cell_type": "code",
   "execution_count": 26,
   "metadata": {},
   "outputs": [
    {
     "data": {
      "text/plain": [
       "count   30557.00\n",
       "mean        3.10\n",
       "std         2.21\n",
       "min         0.02\n",
       "25%         1.50\n",
       "50%         2.55\n",
       "75%         4.15\n",
       "max        18.16\n",
       "Name: windstrength, dtype: float64"
      ]
     },
     "execution_count": 26,
     "metadata": {},
     "output_type": "execute_result"
    }
   ],
   "source": [
    "# create windstrength column\n",
    "\n",
    "df_train['windstrength'] = np.sqrt(df_train.u_component_of_wind_10m_above_ground**2 + df_train.v_component_of_wind_10m_above_ground**2)\n",
    "df_train.windstrength.describe()"
   ]
  },
  {
   "cell_type": "code",
   "execution_count": null,
   "metadata": {},
   "outputs": [],
   "source": []
  }
 ],
 "metadata": {
  "kernelspec": {
   "display_name": ".venv",
   "language": "python",
   "name": "python3"
  },
  "language_info": {
   "codemirror_mode": {
    "name": "ipython",
    "version": 3
   },
   "file_extension": ".py",
   "mimetype": "text/x-python",
   "name": "python",
   "nbconvert_exporter": "python",
   "pygments_lexer": "ipython3",
   "version": "3.9.8"
  },
  "orig_nbformat": 4,
  "vscode": {
   "interpreter": {
    "hash": "132af1ccfb3af7ad9969e5691846cd083635bbc26a08ed5a5a5115e0a1520eae"
   }
  }
 },
 "nbformat": 4,
 "nbformat_minor": 2
}
